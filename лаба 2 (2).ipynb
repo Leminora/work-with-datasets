{
 "cells": [
  {
   "cell_type": "markdown",
   "id": "c3ee1863",
   "metadata": {},
   "source": [
    "Лабораторная работа №2. Метрические методы k ближайших соседей"
   ]
  },
  {
   "cell_type": "markdown",
   "id": "27b42ca0",
   "metadata": {},
   "source": [
    "Для начала импортируем необходимые библиотеки и подключим выбранный нами датафрейм"
   ]
  },
  {
   "cell_type": "code",
   "execution_count": 1193,
   "id": "6c2e7cd9",
   "metadata": {},
   "outputs": [],
   "source": [
    "import pandas as pd \n",
    "import numpy as np"
   ]
  },
  {
   "cell_type": "code",
   "execution_count": 1194,
   "id": "d4890b7f",
   "metadata": {},
   "outputs": [
    {
     "data": {
      "text/html": [
       "<div>\n",
       "<style scoped>\n",
       "    .dataframe tbody tr th:only-of-type {\n",
       "        vertical-align: middle;\n",
       "    }\n",
       "\n",
       "    .dataframe tbody tr th {\n",
       "        vertical-align: top;\n",
       "    }\n",
       "\n",
       "    .dataframe thead th {\n",
       "        text-align: right;\n",
       "    }\n",
       "</style>\n",
       "<table border=\"1\" class=\"dataframe\">\n",
       "  <thead>\n",
       "    <tr style=\"text-align: right;\">\n",
       "      <th></th>\n",
       "      <th>#</th>\n",
       "      <th>Name</th>\n",
       "      <th>Type 1</th>\n",
       "      <th>Type 2</th>\n",
       "      <th>Total</th>\n",
       "      <th>HP</th>\n",
       "      <th>Attack</th>\n",
       "      <th>Defense</th>\n",
       "      <th>Sp. Atk</th>\n",
       "      <th>Sp. Def</th>\n",
       "      <th>Speed</th>\n",
       "      <th>Generation</th>\n",
       "      <th>Legendary</th>\n",
       "    </tr>\n",
       "  </thead>\n",
       "  <tbody>\n",
       "    <tr>\n",
       "      <th>0</th>\n",
       "      <td>1</td>\n",
       "      <td>Bulbasaur</td>\n",
       "      <td>Grass</td>\n",
       "      <td>Poison</td>\n",
       "      <td>318</td>\n",
       "      <td>45</td>\n",
       "      <td>49</td>\n",
       "      <td>49</td>\n",
       "      <td>65</td>\n",
       "      <td>65</td>\n",
       "      <td>45</td>\n",
       "      <td>1</td>\n",
       "      <td>False</td>\n",
       "    </tr>\n",
       "    <tr>\n",
       "      <th>1</th>\n",
       "      <td>2</td>\n",
       "      <td>Ivysaur</td>\n",
       "      <td>Grass</td>\n",
       "      <td>Poison</td>\n",
       "      <td>405</td>\n",
       "      <td>60</td>\n",
       "      <td>62</td>\n",
       "      <td>63</td>\n",
       "      <td>80</td>\n",
       "      <td>80</td>\n",
       "      <td>60</td>\n",
       "      <td>1</td>\n",
       "      <td>False</td>\n",
       "    </tr>\n",
       "    <tr>\n",
       "      <th>2</th>\n",
       "      <td>3</td>\n",
       "      <td>Venusaur</td>\n",
       "      <td>Grass</td>\n",
       "      <td>Poison</td>\n",
       "      <td>525</td>\n",
       "      <td>80</td>\n",
       "      <td>82</td>\n",
       "      <td>83</td>\n",
       "      <td>100</td>\n",
       "      <td>100</td>\n",
       "      <td>80</td>\n",
       "      <td>1</td>\n",
       "      <td>False</td>\n",
       "    </tr>\n",
       "    <tr>\n",
       "      <th>3</th>\n",
       "      <td>3</td>\n",
       "      <td>VenusaurMega Venusaur</td>\n",
       "      <td>Grass</td>\n",
       "      <td>Poison</td>\n",
       "      <td>625</td>\n",
       "      <td>80</td>\n",
       "      <td>100</td>\n",
       "      <td>123</td>\n",
       "      <td>122</td>\n",
       "      <td>120</td>\n",
       "      <td>80</td>\n",
       "      <td>1</td>\n",
       "      <td>False</td>\n",
       "    </tr>\n",
       "    <tr>\n",
       "      <th>4</th>\n",
       "      <td>4</td>\n",
       "      <td>Charmander</td>\n",
       "      <td>Fire</td>\n",
       "      <td>NaN</td>\n",
       "      <td>309</td>\n",
       "      <td>39</td>\n",
       "      <td>52</td>\n",
       "      <td>43</td>\n",
       "      <td>60</td>\n",
       "      <td>50</td>\n",
       "      <td>65</td>\n",
       "      <td>1</td>\n",
       "      <td>False</td>\n",
       "    </tr>\n",
       "    <tr>\n",
       "      <th>...</th>\n",
       "      <td>...</td>\n",
       "      <td>...</td>\n",
       "      <td>...</td>\n",
       "      <td>...</td>\n",
       "      <td>...</td>\n",
       "      <td>...</td>\n",
       "      <td>...</td>\n",
       "      <td>...</td>\n",
       "      <td>...</td>\n",
       "      <td>...</td>\n",
       "      <td>...</td>\n",
       "      <td>...</td>\n",
       "      <td>...</td>\n",
       "    </tr>\n",
       "    <tr>\n",
       "      <th>795</th>\n",
       "      <td>719</td>\n",
       "      <td>Diancie</td>\n",
       "      <td>Rock</td>\n",
       "      <td>Fairy</td>\n",
       "      <td>600</td>\n",
       "      <td>50</td>\n",
       "      <td>100</td>\n",
       "      <td>150</td>\n",
       "      <td>100</td>\n",
       "      <td>150</td>\n",
       "      <td>50</td>\n",
       "      <td>6</td>\n",
       "      <td>True</td>\n",
       "    </tr>\n",
       "    <tr>\n",
       "      <th>796</th>\n",
       "      <td>719</td>\n",
       "      <td>DiancieMega Diancie</td>\n",
       "      <td>Rock</td>\n",
       "      <td>Fairy</td>\n",
       "      <td>700</td>\n",
       "      <td>50</td>\n",
       "      <td>160</td>\n",
       "      <td>110</td>\n",
       "      <td>160</td>\n",
       "      <td>110</td>\n",
       "      <td>110</td>\n",
       "      <td>6</td>\n",
       "      <td>True</td>\n",
       "    </tr>\n",
       "    <tr>\n",
       "      <th>797</th>\n",
       "      <td>720</td>\n",
       "      <td>HoopaHoopa Confined</td>\n",
       "      <td>Psychic</td>\n",
       "      <td>Ghost</td>\n",
       "      <td>600</td>\n",
       "      <td>80</td>\n",
       "      <td>110</td>\n",
       "      <td>60</td>\n",
       "      <td>150</td>\n",
       "      <td>130</td>\n",
       "      <td>70</td>\n",
       "      <td>6</td>\n",
       "      <td>True</td>\n",
       "    </tr>\n",
       "    <tr>\n",
       "      <th>798</th>\n",
       "      <td>720</td>\n",
       "      <td>HoopaHoopa Unbound</td>\n",
       "      <td>Psychic</td>\n",
       "      <td>Dark</td>\n",
       "      <td>680</td>\n",
       "      <td>80</td>\n",
       "      <td>160</td>\n",
       "      <td>60</td>\n",
       "      <td>170</td>\n",
       "      <td>130</td>\n",
       "      <td>80</td>\n",
       "      <td>6</td>\n",
       "      <td>True</td>\n",
       "    </tr>\n",
       "    <tr>\n",
       "      <th>799</th>\n",
       "      <td>721</td>\n",
       "      <td>Volcanion</td>\n",
       "      <td>Fire</td>\n",
       "      <td>Water</td>\n",
       "      <td>600</td>\n",
       "      <td>80</td>\n",
       "      <td>110</td>\n",
       "      <td>120</td>\n",
       "      <td>130</td>\n",
       "      <td>90</td>\n",
       "      <td>70</td>\n",
       "      <td>6</td>\n",
       "      <td>True</td>\n",
       "    </tr>\n",
       "  </tbody>\n",
       "</table>\n",
       "<p>800 rows × 13 columns</p>\n",
       "</div>"
      ],
      "text/plain": [
       "       #                   Name   Type 1  Type 2  Total  HP  Attack  Defense  \\\n",
       "0      1              Bulbasaur    Grass  Poison    318  45      49       49   \n",
       "1      2                Ivysaur    Grass  Poison    405  60      62       63   \n",
       "2      3               Venusaur    Grass  Poison    525  80      82       83   \n",
       "3      3  VenusaurMega Venusaur    Grass  Poison    625  80     100      123   \n",
       "4      4             Charmander     Fire     NaN    309  39      52       43   \n",
       "..   ...                    ...      ...     ...    ...  ..     ...      ...   \n",
       "795  719                Diancie     Rock   Fairy    600  50     100      150   \n",
       "796  719    DiancieMega Diancie     Rock   Fairy    700  50     160      110   \n",
       "797  720    HoopaHoopa Confined  Psychic   Ghost    600  80     110       60   \n",
       "798  720     HoopaHoopa Unbound  Psychic    Dark    680  80     160       60   \n",
       "799  721              Volcanion     Fire   Water    600  80     110      120   \n",
       "\n",
       "     Sp. Atk  Sp. Def  Speed  Generation  Legendary  \n",
       "0         65       65     45           1      False  \n",
       "1         80       80     60           1      False  \n",
       "2        100      100     80           1      False  \n",
       "3        122      120     80           1      False  \n",
       "4         60       50     65           1      False  \n",
       "..       ...      ...    ...         ...        ...  \n",
       "795      100      150     50           6       True  \n",
       "796      160      110    110           6       True  \n",
       "797      150      130     70           6       True  \n",
       "798      170      130     80           6       True  \n",
       "799      130       90     70           6       True  \n",
       "\n",
       "[800 rows x 13 columns]"
      ]
     },
     "execution_count": 1194,
     "metadata": {},
     "output_type": "execute_result"
    }
   ],
   "source": [
    "pokemon_df = pd.read_csv('C:/Users/User/Downloads/archive/Pokemon.csv') \n",
    "pokemon_df"
   ]
  },
  {
   "cell_type": "markdown",
   "id": "f387e0a7",
   "metadata": {},
   "source": [
    "Далее переименовываем для нашего удобства определенные столбцы и проверяем сохранение изменения."
   ]
  },
  {
   "cell_type": "code",
   "execution_count": 1195,
   "id": "398024cd",
   "metadata": {},
   "outputs": [],
   "source": [
    "pokemon_df.rename(columns={'Type 1':'Type_1'}, inplace=True)\n",
    "pokemon_df.rename(columns={'Type 2':'Type_2'}, inplace=True)\n",
    "pokemon_df.rename(columns={'Sp. Atk':'Sp.Atk'}, inplace=True)\n",
    "pokemon_df.rename(columns={'Sp. Def':'Sp.Def'}, inplace=True)"
   ]
  },
  {
   "cell_type": "code",
   "execution_count": 1196,
   "id": "af4a6ced",
   "metadata": {},
   "outputs": [
    {
     "data": {
      "text/html": [
       "<div>\n",
       "<style scoped>\n",
       "    .dataframe tbody tr th:only-of-type {\n",
       "        vertical-align: middle;\n",
       "    }\n",
       "\n",
       "    .dataframe tbody tr th {\n",
       "        vertical-align: top;\n",
       "    }\n",
       "\n",
       "    .dataframe thead th {\n",
       "        text-align: right;\n",
       "    }\n",
       "</style>\n",
       "<table border=\"1\" class=\"dataframe\">\n",
       "  <thead>\n",
       "    <tr style=\"text-align: right;\">\n",
       "      <th></th>\n",
       "      <th>#</th>\n",
       "      <th>Name</th>\n",
       "      <th>Type_1</th>\n",
       "      <th>Type_2</th>\n",
       "      <th>Total</th>\n",
       "      <th>HP</th>\n",
       "      <th>Attack</th>\n",
       "      <th>Defense</th>\n",
       "      <th>Sp.Atk</th>\n",
       "      <th>Sp.Def</th>\n",
       "      <th>Speed</th>\n",
       "      <th>Generation</th>\n",
       "      <th>Legendary</th>\n",
       "    </tr>\n",
       "  </thead>\n",
       "  <tbody>\n",
       "    <tr>\n",
       "      <th>0</th>\n",
       "      <td>1</td>\n",
       "      <td>Bulbasaur</td>\n",
       "      <td>Grass</td>\n",
       "      <td>Poison</td>\n",
       "      <td>318</td>\n",
       "      <td>45</td>\n",
       "      <td>49</td>\n",
       "      <td>49</td>\n",
       "      <td>65</td>\n",
       "      <td>65</td>\n",
       "      <td>45</td>\n",
       "      <td>1</td>\n",
       "      <td>False</td>\n",
       "    </tr>\n",
       "    <tr>\n",
       "      <th>1</th>\n",
       "      <td>2</td>\n",
       "      <td>Ivysaur</td>\n",
       "      <td>Grass</td>\n",
       "      <td>Poison</td>\n",
       "      <td>405</td>\n",
       "      <td>60</td>\n",
       "      <td>62</td>\n",
       "      <td>63</td>\n",
       "      <td>80</td>\n",
       "      <td>80</td>\n",
       "      <td>60</td>\n",
       "      <td>1</td>\n",
       "      <td>False</td>\n",
       "    </tr>\n",
       "    <tr>\n",
       "      <th>2</th>\n",
       "      <td>3</td>\n",
       "      <td>Venusaur</td>\n",
       "      <td>Grass</td>\n",
       "      <td>Poison</td>\n",
       "      <td>525</td>\n",
       "      <td>80</td>\n",
       "      <td>82</td>\n",
       "      <td>83</td>\n",
       "      <td>100</td>\n",
       "      <td>100</td>\n",
       "      <td>80</td>\n",
       "      <td>1</td>\n",
       "      <td>False</td>\n",
       "    </tr>\n",
       "    <tr>\n",
       "      <th>3</th>\n",
       "      <td>3</td>\n",
       "      <td>VenusaurMega Venusaur</td>\n",
       "      <td>Grass</td>\n",
       "      <td>Poison</td>\n",
       "      <td>625</td>\n",
       "      <td>80</td>\n",
       "      <td>100</td>\n",
       "      <td>123</td>\n",
       "      <td>122</td>\n",
       "      <td>120</td>\n",
       "      <td>80</td>\n",
       "      <td>1</td>\n",
       "      <td>False</td>\n",
       "    </tr>\n",
       "    <tr>\n",
       "      <th>4</th>\n",
       "      <td>4</td>\n",
       "      <td>Charmander</td>\n",
       "      <td>Fire</td>\n",
       "      <td>NaN</td>\n",
       "      <td>309</td>\n",
       "      <td>39</td>\n",
       "      <td>52</td>\n",
       "      <td>43</td>\n",
       "      <td>60</td>\n",
       "      <td>50</td>\n",
       "      <td>65</td>\n",
       "      <td>1</td>\n",
       "      <td>False</td>\n",
       "    </tr>\n",
       "    <tr>\n",
       "      <th>...</th>\n",
       "      <td>...</td>\n",
       "      <td>...</td>\n",
       "      <td>...</td>\n",
       "      <td>...</td>\n",
       "      <td>...</td>\n",
       "      <td>...</td>\n",
       "      <td>...</td>\n",
       "      <td>...</td>\n",
       "      <td>...</td>\n",
       "      <td>...</td>\n",
       "      <td>...</td>\n",
       "      <td>...</td>\n",
       "      <td>...</td>\n",
       "    </tr>\n",
       "    <tr>\n",
       "      <th>795</th>\n",
       "      <td>719</td>\n",
       "      <td>Diancie</td>\n",
       "      <td>Rock</td>\n",
       "      <td>Fairy</td>\n",
       "      <td>600</td>\n",
       "      <td>50</td>\n",
       "      <td>100</td>\n",
       "      <td>150</td>\n",
       "      <td>100</td>\n",
       "      <td>150</td>\n",
       "      <td>50</td>\n",
       "      <td>6</td>\n",
       "      <td>True</td>\n",
       "    </tr>\n",
       "    <tr>\n",
       "      <th>796</th>\n",
       "      <td>719</td>\n",
       "      <td>DiancieMega Diancie</td>\n",
       "      <td>Rock</td>\n",
       "      <td>Fairy</td>\n",
       "      <td>700</td>\n",
       "      <td>50</td>\n",
       "      <td>160</td>\n",
       "      <td>110</td>\n",
       "      <td>160</td>\n",
       "      <td>110</td>\n",
       "      <td>110</td>\n",
       "      <td>6</td>\n",
       "      <td>True</td>\n",
       "    </tr>\n",
       "    <tr>\n",
       "      <th>797</th>\n",
       "      <td>720</td>\n",
       "      <td>HoopaHoopa Confined</td>\n",
       "      <td>Psychic</td>\n",
       "      <td>Ghost</td>\n",
       "      <td>600</td>\n",
       "      <td>80</td>\n",
       "      <td>110</td>\n",
       "      <td>60</td>\n",
       "      <td>150</td>\n",
       "      <td>130</td>\n",
       "      <td>70</td>\n",
       "      <td>6</td>\n",
       "      <td>True</td>\n",
       "    </tr>\n",
       "    <tr>\n",
       "      <th>798</th>\n",
       "      <td>720</td>\n",
       "      <td>HoopaHoopa Unbound</td>\n",
       "      <td>Psychic</td>\n",
       "      <td>Dark</td>\n",
       "      <td>680</td>\n",
       "      <td>80</td>\n",
       "      <td>160</td>\n",
       "      <td>60</td>\n",
       "      <td>170</td>\n",
       "      <td>130</td>\n",
       "      <td>80</td>\n",
       "      <td>6</td>\n",
       "      <td>True</td>\n",
       "    </tr>\n",
       "    <tr>\n",
       "      <th>799</th>\n",
       "      <td>721</td>\n",
       "      <td>Volcanion</td>\n",
       "      <td>Fire</td>\n",
       "      <td>Water</td>\n",
       "      <td>600</td>\n",
       "      <td>80</td>\n",
       "      <td>110</td>\n",
       "      <td>120</td>\n",
       "      <td>130</td>\n",
       "      <td>90</td>\n",
       "      <td>70</td>\n",
       "      <td>6</td>\n",
       "      <td>True</td>\n",
       "    </tr>\n",
       "  </tbody>\n",
       "</table>\n",
       "<p>800 rows × 13 columns</p>\n",
       "</div>"
      ],
      "text/plain": [
       "       #                   Name   Type_1  Type_2  Total  HP  Attack  Defense  \\\n",
       "0      1              Bulbasaur    Grass  Poison    318  45      49       49   \n",
       "1      2                Ivysaur    Grass  Poison    405  60      62       63   \n",
       "2      3               Venusaur    Grass  Poison    525  80      82       83   \n",
       "3      3  VenusaurMega Venusaur    Grass  Poison    625  80     100      123   \n",
       "4      4             Charmander     Fire     NaN    309  39      52       43   \n",
       "..   ...                    ...      ...     ...    ...  ..     ...      ...   \n",
       "795  719                Diancie     Rock   Fairy    600  50     100      150   \n",
       "796  719    DiancieMega Diancie     Rock   Fairy    700  50     160      110   \n",
       "797  720    HoopaHoopa Confined  Psychic   Ghost    600  80     110       60   \n",
       "798  720     HoopaHoopa Unbound  Psychic    Dark    680  80     160       60   \n",
       "799  721              Volcanion     Fire   Water    600  80     110      120   \n",
       "\n",
       "     Sp.Atk  Sp.Def  Speed  Generation  Legendary  \n",
       "0        65      65     45           1      False  \n",
       "1        80      80     60           1      False  \n",
       "2       100     100     80           1      False  \n",
       "3       122     120     80           1      False  \n",
       "4        60      50     65           1      False  \n",
       "..      ...     ...    ...         ...        ...  \n",
       "795     100     150     50           6       True  \n",
       "796     160     110    110           6       True  \n",
       "797     150     130     70           6       True  \n",
       "798     170     130     80           6       True  \n",
       "799     130      90     70           6       True  \n",
       "\n",
       "[800 rows x 13 columns]"
      ]
     },
     "execution_count": 1196,
     "metadata": {},
     "output_type": "execute_result"
    }
   ],
   "source": [
    "pokemon_df"
   ]
  },
  {
   "cell_type": "markdown",
   "id": "2da5b820",
   "metadata": {},
   "source": [
    "Далее убираем столбцы, в которых хранятся слова, т.к. мы не сможем к ним применить метод k ближайших соседей."
   ]
  },
  {
   "cell_type": "code",
   "execution_count": 1197,
   "id": "3a8931fe",
   "metadata": {},
   "outputs": [],
   "source": [
    "pokemon_df.drop(\"Name\", axis=1, inplace=True)\n",
    "pokemon_df.drop(\"Type_1\", axis=1, inplace=True)\n",
    "pokemon_df.drop(\"Type_2\", axis=1, inplace=True)\n",
    "pokemon_df.drop(\"Legendary\", axis=1, inplace=True)"
   ]
  },
  {
   "cell_type": "code",
   "execution_count": 1198,
   "id": "5f0df26c",
   "metadata": {},
   "outputs": [
    {
     "data": {
      "text/html": [
       "<div>\n",
       "<style scoped>\n",
       "    .dataframe tbody tr th:only-of-type {\n",
       "        vertical-align: middle;\n",
       "    }\n",
       "\n",
       "    .dataframe tbody tr th {\n",
       "        vertical-align: top;\n",
       "    }\n",
       "\n",
       "    .dataframe thead th {\n",
       "        text-align: right;\n",
       "    }\n",
       "</style>\n",
       "<table border=\"1\" class=\"dataframe\">\n",
       "  <thead>\n",
       "    <tr style=\"text-align: right;\">\n",
       "      <th></th>\n",
       "      <th>#</th>\n",
       "      <th>Total</th>\n",
       "      <th>HP</th>\n",
       "      <th>Attack</th>\n",
       "      <th>Defense</th>\n",
       "      <th>Sp.Atk</th>\n",
       "      <th>Sp.Def</th>\n",
       "      <th>Speed</th>\n",
       "      <th>Generation</th>\n",
       "    </tr>\n",
       "  </thead>\n",
       "  <tbody>\n",
       "    <tr>\n",
       "      <th>0</th>\n",
       "      <td>1</td>\n",
       "      <td>318</td>\n",
       "      <td>45</td>\n",
       "      <td>49</td>\n",
       "      <td>49</td>\n",
       "      <td>65</td>\n",
       "      <td>65</td>\n",
       "      <td>45</td>\n",
       "      <td>1</td>\n",
       "    </tr>\n",
       "    <tr>\n",
       "      <th>1</th>\n",
       "      <td>2</td>\n",
       "      <td>405</td>\n",
       "      <td>60</td>\n",
       "      <td>62</td>\n",
       "      <td>63</td>\n",
       "      <td>80</td>\n",
       "      <td>80</td>\n",
       "      <td>60</td>\n",
       "      <td>1</td>\n",
       "    </tr>\n",
       "    <tr>\n",
       "      <th>2</th>\n",
       "      <td>3</td>\n",
       "      <td>525</td>\n",
       "      <td>80</td>\n",
       "      <td>82</td>\n",
       "      <td>83</td>\n",
       "      <td>100</td>\n",
       "      <td>100</td>\n",
       "      <td>80</td>\n",
       "      <td>1</td>\n",
       "    </tr>\n",
       "    <tr>\n",
       "      <th>3</th>\n",
       "      <td>3</td>\n",
       "      <td>625</td>\n",
       "      <td>80</td>\n",
       "      <td>100</td>\n",
       "      <td>123</td>\n",
       "      <td>122</td>\n",
       "      <td>120</td>\n",
       "      <td>80</td>\n",
       "      <td>1</td>\n",
       "    </tr>\n",
       "    <tr>\n",
       "      <th>4</th>\n",
       "      <td>4</td>\n",
       "      <td>309</td>\n",
       "      <td>39</td>\n",
       "      <td>52</td>\n",
       "      <td>43</td>\n",
       "      <td>60</td>\n",
       "      <td>50</td>\n",
       "      <td>65</td>\n",
       "      <td>1</td>\n",
       "    </tr>\n",
       "    <tr>\n",
       "      <th>...</th>\n",
       "      <td>...</td>\n",
       "      <td>...</td>\n",
       "      <td>...</td>\n",
       "      <td>...</td>\n",
       "      <td>...</td>\n",
       "      <td>...</td>\n",
       "      <td>...</td>\n",
       "      <td>...</td>\n",
       "      <td>...</td>\n",
       "    </tr>\n",
       "    <tr>\n",
       "      <th>795</th>\n",
       "      <td>719</td>\n",
       "      <td>600</td>\n",
       "      <td>50</td>\n",
       "      <td>100</td>\n",
       "      <td>150</td>\n",
       "      <td>100</td>\n",
       "      <td>150</td>\n",
       "      <td>50</td>\n",
       "      <td>6</td>\n",
       "    </tr>\n",
       "    <tr>\n",
       "      <th>796</th>\n",
       "      <td>719</td>\n",
       "      <td>700</td>\n",
       "      <td>50</td>\n",
       "      <td>160</td>\n",
       "      <td>110</td>\n",
       "      <td>160</td>\n",
       "      <td>110</td>\n",
       "      <td>110</td>\n",
       "      <td>6</td>\n",
       "    </tr>\n",
       "    <tr>\n",
       "      <th>797</th>\n",
       "      <td>720</td>\n",
       "      <td>600</td>\n",
       "      <td>80</td>\n",
       "      <td>110</td>\n",
       "      <td>60</td>\n",
       "      <td>150</td>\n",
       "      <td>130</td>\n",
       "      <td>70</td>\n",
       "      <td>6</td>\n",
       "    </tr>\n",
       "    <tr>\n",
       "      <th>798</th>\n",
       "      <td>720</td>\n",
       "      <td>680</td>\n",
       "      <td>80</td>\n",
       "      <td>160</td>\n",
       "      <td>60</td>\n",
       "      <td>170</td>\n",
       "      <td>130</td>\n",
       "      <td>80</td>\n",
       "      <td>6</td>\n",
       "    </tr>\n",
       "    <tr>\n",
       "      <th>799</th>\n",
       "      <td>721</td>\n",
       "      <td>600</td>\n",
       "      <td>80</td>\n",
       "      <td>110</td>\n",
       "      <td>120</td>\n",
       "      <td>130</td>\n",
       "      <td>90</td>\n",
       "      <td>70</td>\n",
       "      <td>6</td>\n",
       "    </tr>\n",
       "  </tbody>\n",
       "</table>\n",
       "<p>800 rows × 9 columns</p>\n",
       "</div>"
      ],
      "text/plain": [
       "       #  Total  HP  Attack  Defense  Sp.Atk  Sp.Def  Speed  Generation\n",
       "0      1    318  45      49       49      65      65     45           1\n",
       "1      2    405  60      62       63      80      80     60           1\n",
       "2      3    525  80      82       83     100     100     80           1\n",
       "3      3    625  80     100      123     122     120     80           1\n",
       "4      4    309  39      52       43      60      50     65           1\n",
       "..   ...    ...  ..     ...      ...     ...     ...    ...         ...\n",
       "795  719    600  50     100      150     100     150     50           6\n",
       "796  719    700  50     160      110     160     110    110           6\n",
       "797  720    600  80     110       60     150     130     70           6\n",
       "798  720    680  80     160       60     170     130     80           6\n",
       "799  721    600  80     110      120     130      90     70           6\n",
       "\n",
       "[800 rows x 9 columns]"
      ]
     },
     "execution_count": 1198,
     "metadata": {},
     "output_type": "execute_result"
    }
   ],
   "source": [
    "pokemon_df"
   ]
  },
  {
   "cell_type": "markdown",
   "id": "79adc81b",
   "metadata": {},
   "source": [
    "При вызове таблицы мы видим, что остались столбцы только с цифрами внутри. Далее делаем подготовку для того, чтобы можно было применить метрические методы k ближайших соседей."
   ]
  },
  {
   "cell_type": "code",
   "execution_count": 1199,
   "id": "1225d9d9",
   "metadata": {},
   "outputs": [],
   "source": [
    "X = pokemon_df.iloc[:, :-1].values\n",
    "y = pokemon_df.iloc[:, 8].values"
   ]
  },
  {
   "cell_type": "code",
   "execution_count": 1200,
   "id": "ec0c1cd3",
   "metadata": {},
   "outputs": [],
   "source": [
    "from sklearn.model_selection import train_test_split\n",
    "X_train, X_test, y_train, y_test = train_test_split(X, y, test_size = 0.40)"
   ]
  },
  {
   "cell_type": "code",
   "execution_count": 1201,
   "id": "5ef371b5",
   "metadata": {},
   "outputs": [],
   "source": [
    "from sklearn.preprocessing import StandardScaler\n",
    "scaler = StandardScaler()\n",
    "scaler.fit(X_train)\n",
    "X_train = scaler.transform(X_train)\n",
    "X_test = scaler.transform(X_test)"
   ]
  },
  {
   "cell_type": "markdown",
   "id": "226a4219",
   "metadata": {},
   "source": [
    "Расстояние Минковского для 5 соседей"
   ]
  },
  {
   "cell_type": "code",
   "execution_count": 1202,
   "id": "9c8f73f7",
   "metadata": {},
   "outputs": [
    {
     "data": {
      "text/plain": [
       "array([6, 1, 6, 1, 1, 4, 2, 3, 1, 1, 2, 1, 2, 2, 1, 3, 5, 5, 6, 3, 1, 5,\n",
       "       1, 5, 2, 1, 4, 5, 6, 6, 3, 1, 1, 5, 4, 3, 5, 2, 5, 3, 6, 1, 5, 5,\n",
       "       5, 6, 4, 6, 1, 3, 2, 6, 1, 3, 1, 3, 5, 3, 1, 1, 4, 3, 3, 1, 4, 5,\n",
       "       2, 6, 4, 1, 4, 5, 4, 5, 4, 3, 3, 5, 1, 1, 4, 6, 1, 1, 5, 1, 1, 1,\n",
       "       6, 5, 6, 3, 2, 1, 2, 2, 3, 1, 2, 4, 4, 5, 4, 5, 3, 5, 5, 2, 1, 1,\n",
       "       5, 3, 3, 6, 5, 1, 6, 2, 1, 4, 2, 5, 4, 2, 5, 3, 4, 6, 5, 3, 5, 2,\n",
       "       3, 3, 1, 1, 4, 2, 1, 2, 2, 1, 3, 5, 4, 3, 3, 5, 4, 2, 1, 2, 1, 4,\n",
       "       5, 2, 4, 2, 1, 5, 4, 3, 5, 3, 1, 3, 4, 2, 2, 4, 3, 5, 6, 3, 2, 4,\n",
       "       5, 3, 5, 3, 4, 1, 5, 5, 3, 6, 1, 1, 5, 1, 1, 5, 1, 1, 4, 5, 6, 1,\n",
       "       3, 3, 4, 5, 6, 2, 4, 3, 1, 3, 4, 1, 3, 4, 3, 5, 5, 1, 1, 5, 2, 3,\n",
       "       5, 1, 5, 3, 5, 1, 1, 3, 1, 1, 6, 5, 1, 5, 1, 1, 1, 2, 4, 5, 6, 1,\n",
       "       6, 5, 4, 3, 6, 5, 3, 5, 1, 3, 5, 3, 5, 5, 5, 3, 1, 4, 5, 1, 6, 3,\n",
       "       3, 1, 1, 1, 3, 2, 6, 3, 5, 4, 2, 1, 2, 3, 4, 2, 6, 1, 5, 5, 3, 1,\n",
       "       3, 3, 1, 3, 5, 4, 4, 4, 3, 4, 1, 3, 5, 5, 4, 3, 4, 4, 3, 2, 3, 6,\n",
       "       2, 1, 1, 1, 6, 1, 5, 5, 3, 1, 1, 3], dtype=int64)"
      ]
     },
     "execution_count": 1202,
     "metadata": {},
     "output_type": "execute_result"
    }
   ],
   "source": [
    "from sklearn.neighbors import KNeighborsClassifier\n",
    "classifier = KNeighborsClassifier(n_neighbors = 5, metric='minkowski')\n",
    "classifier.fit(X_train, y_train)\n",
    "y_pred = classifier.predict(X_test)\n",
    "y_pred"
   ]
  },
  {
   "cell_type": "code",
   "execution_count": 1203,
   "id": "fa1ceea8",
   "metadata": {},
   "outputs": [
    {
     "data": {
      "text/plain": [
       "array([[0. , 0. , 0. , 0.4, 0. , 0.6],\n",
       "       [1. , 0. , 0. , 0. , 0. , 0. ],\n",
       "       [0. , 0. , 0. , 0. , 0.4, 0.6],\n",
       "       [0.4, 0. , 0.4, 0.2, 0. , 0. ],\n",
       "       [0.8, 0.2, 0. , 0. , 0. , 0. ]])"
      ]
     },
     "execution_count": 1203,
     "metadata": {},
     "output_type": "execute_result"
    }
   ],
   "source": [
    "y_pred = classifier.predict_proba(X_test[:5, :])\n",
    "y_pred"
   ]
  },
  {
   "cell_type": "code",
   "execution_count": 1204,
   "id": "1dbbeef0",
   "metadata": {},
   "outputs": [
    {
     "name": "stdout",
     "output_type": "stream",
     "text": [
      "Число ошибочно классифицированных образцов: 136\n"
     ]
    }
   ],
   "source": [
    "y_pred = classifier.predict(X_test)\n",
    "print ('Число ошибочно классифицированных образцов: %d' % (y_test != y_pred).sum())"
   ]
  },
  {
   "cell_type": "code",
   "execution_count": 1205,
   "id": "2be2a558",
   "metadata": {},
   "outputs": [
    {
     "name": "stdout",
     "output_type": "stream",
     "text": [
      "Верность : 0.57 \n"
     ]
    }
   ],
   "source": [
    "from sklearn.metrics import accuracy_score\n",
    "print ('Верность : %.2f ' % accuracy_score(y_test, y_pred))"
   ]
  },
  {
   "cell_type": "markdown",
   "id": "0b75558d",
   "metadata": {},
   "source": [
    "Расстояние Минковского для 7 соседей"
   ]
  },
  {
   "cell_type": "code",
   "execution_count": 1206,
   "id": "6e6f4f3d",
   "metadata": {},
   "outputs": [
    {
     "data": {
      "text/plain": [
       "array([6, 1, 5, 1, 1, 4, 2, 3, 1, 1, 2, 1, 1, 2, 1, 3, 6, 5, 6, 3, 1, 5,\n",
       "       1, 5, 2, 1, 4, 6, 6, 6, 3, 1, 1, 5, 4, 3, 5, 3, 5, 2, 5, 1, 5, 5,\n",
       "       5, 6, 4, 5, 1, 3, 2, 6, 1, 3, 1, 3, 5, 3, 1, 1, 4, 3, 3, 1, 4, 5,\n",
       "       1, 5, 4, 1, 4, 5, 4, 5, 4, 3, 3, 4, 1, 1, 4, 6, 1, 1, 5, 3, 1, 4,\n",
       "       5, 5, 6, 4, 1, 1, 2, 3, 3, 1, 3, 4, 4, 5, 4, 5, 3, 5, 4, 2, 2, 1,\n",
       "       5, 3, 3, 5, 5, 1, 6, 2, 1, 4, 3, 5, 5, 2, 5, 3, 5, 5, 5, 2, 5, 2,\n",
       "       3, 3, 1, 1, 4, 2, 1, 2, 2, 1, 3, 5, 5, 3, 3, 5, 4, 2, 1, 2, 1, 4,\n",
       "       5, 3, 4, 2, 1, 5, 5, 3, 5, 5, 1, 3, 4, 2, 2, 5, 3, 5, 5, 1, 2, 3,\n",
       "       5, 3, 5, 3, 4, 1, 5, 5, 6, 6, 1, 1, 5, 1, 1, 5, 1, 1, 4, 5, 6, 1,\n",
       "       1, 3, 6, 5, 6, 2, 4, 3, 1, 3, 4, 1, 3, 4, 3, 5, 5, 1, 1, 5, 2, 3,\n",
       "       5, 1, 5, 3, 5, 1, 1, 3, 1, 1, 5, 5, 1, 5, 1, 1, 1, 3, 5, 5, 6, 1,\n",
       "       5, 5, 4, 3, 6, 5, 1, 6, 1, 5, 5, 3, 5, 5, 5, 3, 1, 4, 5, 1, 6, 5,\n",
       "       3, 1, 1, 1, 3, 2, 6, 3, 5, 4, 4, 1, 1, 3, 4, 1, 6, 1, 5, 5, 3, 1,\n",
       "       3, 3, 1, 3, 5, 4, 4, 4, 3, 4, 1, 3, 5, 5, 4, 3, 4, 4, 3, 1, 3, 6,\n",
       "       1, 1, 1, 1, 6, 1, 5, 5, 3, 1, 2, 3], dtype=int64)"
      ]
     },
     "execution_count": 1206,
     "metadata": {},
     "output_type": "execute_result"
    }
   ],
   "source": [
    "from sklearn.neighbors import KNeighborsClassifier\n",
    "classifier = KNeighborsClassifier(n_neighbors = 7, metric='minkowski')\n",
    "classifier.fit(X_train, y_train)\n",
    "y_pred = classifier.predict(X_test)\n",
    "y_pred"
   ]
  },
  {
   "cell_type": "code",
   "execution_count": 1207,
   "id": "dd901ad9",
   "metadata": {},
   "outputs": [
    {
     "data": {
      "text/plain": [
       "array([[0.        , 0.        , 0.        , 0.28571429, 0.28571429,\n",
       "        0.42857143],\n",
       "       [1.        , 0.        , 0.        , 0.        , 0.        ,\n",
       "        0.        ],\n",
       "       [0.        , 0.        , 0.        , 0.14285714, 0.42857143,\n",
       "        0.42857143],\n",
       "       [0.42857143, 0.        , 0.28571429, 0.28571429, 0.        ,\n",
       "        0.        ],\n",
       "       [0.71428571, 0.14285714, 0.14285714, 0.        , 0.        ,\n",
       "        0.        ]])"
      ]
     },
     "execution_count": 1207,
     "metadata": {},
     "output_type": "execute_result"
    }
   ],
   "source": [
    "y_pred = classifier.predict_proba(X_test[:5, :])\n",
    "y_pred"
   ]
  },
  {
   "cell_type": "code",
   "execution_count": 1208,
   "id": "52ffd710",
   "metadata": {},
   "outputs": [
    {
     "name": "stdout",
     "output_type": "stream",
     "text": [
      "Число ошибочно классифицированных образцов: 132\n"
     ]
    }
   ],
   "source": [
    "y_pred = classifier.predict(X_test)\n",
    "print ('Число ошибочно классифицированных образцов: %d' % (y_test != y_pred).sum())"
   ]
  },
  {
   "cell_type": "code",
   "execution_count": 1209,
   "id": "a46412ed",
   "metadata": {},
   "outputs": [
    {
     "name": "stdout",
     "output_type": "stream",
     "text": [
      "Верность : 0.59 \n"
     ]
    }
   ],
   "source": [
    "from sklearn.metrics import accuracy_score\n",
    "print ('Верность : %.2f ' % accuracy_score(y_test, y_pred))"
   ]
  },
  {
   "cell_type": "markdown",
   "id": "a5af767e",
   "metadata": {},
   "source": [
    "Расстояние Минковского для 9 соседей"
   ]
  },
  {
   "cell_type": "code",
   "execution_count": 1210,
   "id": "198fe368",
   "metadata": {},
   "outputs": [
    {
     "data": {
      "text/plain": [
       "array([5, 1, 6, 1, 1, 4, 2, 1, 1, 1, 2, 1, 1, 1, 1, 3, 5, 5, 6, 6, 1, 5,\n",
       "       1, 5, 2, 1, 5, 5, 6, 6, 3, 1, 1, 5, 4, 3, 5, 3, 5, 3, 5, 1, 5, 5,\n",
       "       5, 6, 4, 5, 1, 3, 2, 6, 1, 3, 1, 3, 5, 2, 1, 1, 3, 3, 2, 1, 6, 5,\n",
       "       1, 5, 4, 1, 5, 5, 4, 5, 4, 3, 3, 5, 1, 1, 3, 6, 1, 1, 4, 3, 1, 3,\n",
       "       6, 5, 6, 4, 1, 1, 2, 1, 2, 1, 3, 4, 4, 5, 3, 5, 3, 5, 5, 3, 1, 1,\n",
       "       5, 3, 3, 5, 5, 1, 6, 2, 1, 5, 3, 5, 5, 2, 6, 3, 5, 5, 5, 3, 5, 1,\n",
       "       3, 3, 1, 1, 4, 2, 1, 4, 2, 1, 3, 4, 5, 5, 3, 5, 5, 2, 1, 2, 1, 4,\n",
       "       4, 3, 4, 2, 1, 5, 5, 2, 5, 5, 1, 2, 4, 2, 2, 5, 3, 5, 5, 1, 2, 3,\n",
       "       5, 3, 5, 3, 4, 1, 5, 5, 6, 6, 1, 1, 5, 1, 1, 5, 1, 1, 4, 5, 6, 1,\n",
       "       1, 3, 5, 5, 6, 1, 4, 3, 1, 3, 4, 1, 3, 4, 3, 5, 5, 1, 1, 5, 2, 3,\n",
       "       5, 2, 5, 3, 5, 1, 1, 3, 1, 1, 5, 5, 1, 5, 1, 1, 1, 3, 5, 5, 6, 1,\n",
       "       5, 5, 4, 3, 6, 5, 1, 6, 1, 5, 5, 3, 5, 5, 5, 3, 1, 4, 5, 1, 6, 5,\n",
       "       3, 1, 1, 1, 3, 2, 6, 4, 5, 4, 2, 1, 1, 3, 5, 2, 6, 1, 5, 5, 3, 1,\n",
       "       3, 3, 1, 3, 5, 4, 4, 5, 3, 4, 1, 3, 5, 6, 4, 3, 4, 4, 2, 1, 3, 5,\n",
       "       2, 1, 1, 1, 6, 1, 5, 5, 3, 1, 2, 3], dtype=int64)"
      ]
     },
     "execution_count": 1210,
     "metadata": {},
     "output_type": "execute_result"
    }
   ],
   "source": [
    "from sklearn.neighbors import KNeighborsClassifier\n",
    "classifier = KNeighborsClassifier(n_neighbors = 9, metric='minkowski')\n",
    "classifier.fit(X_train, y_train)\n",
    "y_pred = classifier.predict(X_test)\n",
    "y_pred"
   ]
  },
  {
   "cell_type": "code",
   "execution_count": 1211,
   "id": "567dcd6f",
   "metadata": {},
   "outputs": [
    {
     "data": {
      "text/plain": [
       "array([[0.        , 0.        , 0.        , 0.22222222, 0.44444444,\n",
       "        0.33333333],\n",
       "       [0.88888889, 0.11111111, 0.        , 0.        , 0.        ,\n",
       "        0.        ],\n",
       "       [0.        , 0.        , 0.        , 0.11111111, 0.33333333,\n",
       "        0.55555556],\n",
       "       [0.44444444, 0.        , 0.22222222, 0.33333333, 0.        ,\n",
       "        0.        ],\n",
       "       [0.77777778, 0.11111111, 0.11111111, 0.        , 0.        ,\n",
       "        0.        ]])"
      ]
     },
     "execution_count": 1211,
     "metadata": {},
     "output_type": "execute_result"
    }
   ],
   "source": [
    "y_pred = classifier.predict_proba(X_test[:5, :])\n",
    "y_pred"
   ]
  },
  {
   "cell_type": "code",
   "execution_count": 1212,
   "id": "e8fd87ab",
   "metadata": {},
   "outputs": [
    {
     "name": "stdout",
     "output_type": "stream",
     "text": [
      "Число ошибочно классифицированных образцов: 141\n"
     ]
    }
   ],
   "source": [
    "y_pred = classifier.predict(X_test)\n",
    "print ('Число ошибочно классифицированных образцов: %d' % (y_test != y_pred).sum())"
   ]
  },
  {
   "cell_type": "code",
   "execution_count": 1213,
   "id": "4ccfe9b2",
   "metadata": {},
   "outputs": [
    {
     "name": "stdout",
     "output_type": "stream",
     "text": [
      "Верность : 0.56 \n"
     ]
    }
   ],
   "source": [
    "from sklearn.metrics import accuracy_score\n",
    "print ('Верность : %.2f ' % accuracy_score(y_test, y_pred))"
   ]
  },
  {
   "cell_type": "markdown",
   "id": "662f6577",
   "metadata": {},
   "source": [
    "Манхэттенское расстояние для 5 соседей"
   ]
  },
  {
   "cell_type": "code",
   "execution_count": 1214,
   "id": "171a5e75",
   "metadata": {},
   "outputs": [
    {
     "data": {
      "text/plain": [
       "array([4, 1, 5, 1, 1, 5, 2, 3, 1, 1, 2, 1, 1, 2, 1, 3, 6, 3, 6, 3, 1, 5,\n",
       "       2, 3, 2, 1, 3, 5, 6, 6, 3, 1, 1, 4, 4, 3, 5, 3, 3, 3, 6, 1, 5, 5,\n",
       "       5, 6, 5, 6, 1, 3, 2, 6, 1, 3, 1, 3, 5, 1, 1, 1, 4, 3, 3, 1, 4, 5,\n",
       "       1, 5, 4, 1, 4, 5, 4, 5, 4, 3, 3, 5, 1, 1, 3, 5, 1, 1, 4, 3, 1, 1,\n",
       "       5, 5, 6, 4, 2, 1, 2, 1, 3, 1, 2, 5, 4, 5, 4, 5, 3, 5, 5, 2, 1, 1,\n",
       "       5, 2, 3, 5, 5, 1, 5, 2, 1, 4, 2, 5, 5, 2, 6, 3, 5, 6, 5, 3, 5, 1,\n",
       "       3, 3, 1, 1, 4, 1, 2, 4, 2, 1, 3, 5, 5, 5, 3, 5, 5, 2, 1, 3, 1, 5,\n",
       "       2, 2, 4, 2, 1, 5, 4, 2, 5, 5, 1, 3, 3, 2, 2, 4, 2, 5, 6, 1, 2, 4,\n",
       "       3, 3, 5, 3, 4, 1, 5, 5, 6, 6, 1, 1, 5, 1, 1, 5, 1, 1, 4, 5, 6, 1,\n",
       "       1, 3, 6, 5, 6, 2, 4, 3, 1, 3, 4, 1, 3, 3, 2, 5, 5, 1, 1, 4, 1, 4,\n",
       "       5, 1, 5, 3, 5, 1, 1, 2, 1, 1, 5, 5, 1, 4, 1, 1, 1, 3, 4, 5, 5, 1,\n",
       "       6, 5, 4, 3, 6, 5, 1, 6, 2, 5, 5, 3, 4, 5, 5, 4, 1, 3, 5, 1, 6, 3,\n",
       "       3, 1, 1, 1, 3, 2, 6, 3, 5, 4, 2, 1, 2, 4, 4, 2, 6, 1, 5, 5, 3, 1,\n",
       "       3, 3, 1, 3, 5, 4, 4, 4, 3, 3, 1, 3, 5, 5, 4, 3, 4, 4, 3, 1, 3, 5,\n",
       "       1, 1, 2, 1, 6, 1, 4, 5, 3, 1, 1, 4], dtype=int64)"
      ]
     },
     "execution_count": 1214,
     "metadata": {},
     "output_type": "execute_result"
    }
   ],
   "source": [
    "from sklearn.neighbors import KNeighborsClassifier\n",
    "classifier = KNeighborsClassifier(n_neighbors = 5, metric='manhattan')\n",
    "classifier.fit(X_train, y_train)\n",
    "y_pred = classifier.predict(X_test)\n",
    "y_pred"
   ]
  },
  {
   "cell_type": "code",
   "execution_count": 1215,
   "id": "aafb40db",
   "metadata": {},
   "outputs": [
    {
     "data": {
      "text/plain": [
       "array([[0. , 0. , 0. , 0.4, 0.2, 0.4],\n",
       "       [1. , 0. , 0. , 0. , 0. , 0. ],\n",
       "       [0. , 0. , 0. , 0. , 0.6, 0.4],\n",
       "       [0.4, 0. , 0.4, 0.2, 0. , 0. ],\n",
       "       [0.6, 0.2, 0.2, 0. , 0. , 0. ]])"
      ]
     },
     "execution_count": 1215,
     "metadata": {},
     "output_type": "execute_result"
    }
   ],
   "source": [
    "y_pred = classifier.predict_proba(X_test[:5, :])\n",
    "y_pred"
   ]
  },
  {
   "cell_type": "code",
   "execution_count": 1216,
   "id": "dfb2bd79",
   "metadata": {},
   "outputs": [
    {
     "name": "stdout",
     "output_type": "stream",
     "text": [
      "Число ошибочно классифицированных образцов: 107\n"
     ]
    }
   ],
   "source": [
    "y_pred = classifier.predict(X_test)\n",
    "print ('Число ошибочно классифицированных образцов: %d' % (y_test != y_pred).sum())"
   ]
  },
  {
   "cell_type": "code",
   "execution_count": 1217,
   "id": "7ddc10f6",
   "metadata": {},
   "outputs": [
    {
     "name": "stdout",
     "output_type": "stream",
     "text": [
      "Верность : 0.67 \n"
     ]
    }
   ],
   "source": [
    "from sklearn.metrics import accuracy_score\n",
    "print ('Верность : %.2f ' % accuracy_score(y_test, y_pred))"
   ]
  },
  {
   "cell_type": "markdown",
   "id": "1ab64e99",
   "metadata": {},
   "source": [
    "Манхэттенское расстояние для 7 соседей"
   ]
  },
  {
   "cell_type": "code",
   "execution_count": 1218,
   "id": "b3e70373",
   "metadata": {},
   "outputs": [
    {
     "data": {
      "text/plain": [
       "array([6, 1, 5, 4, 1, 4, 3, 2, 1, 2, 2, 1, 1, 2, 1, 3, 6, 5, 6, 3, 1, 5,\n",
       "       2, 3, 2, 1, 4, 5, 6, 6, 3, 1, 1, 4, 4, 3, 5, 2, 5, 3, 6, 1, 5, 5,\n",
       "       5, 6, 5, 6, 1, 3, 2, 6, 1, 3, 1, 4, 5, 3, 1, 1, 4, 2, 3, 1, 4, 5,\n",
       "       1, 6, 4, 1, 4, 5, 4, 5, 4, 3, 3, 5, 1, 1, 3, 6, 1, 1, 4, 3, 1, 1,\n",
       "       5, 5, 6, 4, 2, 1, 2, 2, 3, 1, 2, 4, 3, 5, 4, 5, 3, 6, 5, 3, 1, 1,\n",
       "       5, 3, 3, 5, 5, 1, 6, 2, 1, 4, 3, 5, 5, 2, 6, 3, 5, 6, 5, 3, 5, 1,\n",
       "       3, 3, 1, 1, 4, 2, 1, 4, 2, 1, 3, 5, 5, 3, 3, 5, 4, 2, 1, 3, 2, 4,\n",
       "       3, 3, 4, 2, 1, 5, 4, 4, 5, 5, 1, 3, 3, 2, 2, 4, 3, 5, 5, 1, 2, 4,\n",
       "       3, 3, 5, 3, 4, 1, 3, 5, 6, 6, 1, 1, 5, 1, 1, 5, 1, 1, 4, 5, 6, 1,\n",
       "       1, 3, 6, 5, 6, 1, 3, 3, 1, 3, 4, 1, 3, 4, 3, 5, 5, 1, 1, 5, 1, 4,\n",
       "       5, 1, 5, 1, 5, 1, 1, 2, 1, 1, 5, 5, 1, 4, 1, 1, 1, 3, 4, 5, 6, 1,\n",
       "       6, 3, 5, 3, 6, 5, 1, 6, 2, 5, 5, 3, 4, 5, 5, 3, 1, 3, 5, 1, 6, 4,\n",
       "       3, 1, 1, 1, 3, 1, 6, 1, 5, 4, 3, 1, 2, 4, 4, 2, 6, 1, 5, 5, 3, 1,\n",
       "       3, 3, 1, 3, 5, 4, 4, 4, 3, 4, 1, 3, 5, 5, 4, 3, 4, 4, 3, 1, 3, 5,\n",
       "       1, 1, 1, 1, 6, 1, 4, 5, 3, 1, 2, 3], dtype=int64)"
      ]
     },
     "execution_count": 1218,
     "metadata": {},
     "output_type": "execute_result"
    }
   ],
   "source": [
    "from sklearn.neighbors import KNeighborsClassifier\n",
    "classifier = KNeighborsClassifier(n_neighbors = 7, metric='manhattan')\n",
    "classifier.fit(X_train, y_train)\n",
    "y_pred = classifier.predict(X_test)\n",
    "y_pred"
   ]
  },
  {
   "cell_type": "code",
   "execution_count": 1219,
   "id": "652be8de",
   "metadata": {},
   "outputs": [
    {
     "data": {
      "text/plain": [
       "array([[0.        , 0.        , 0.14285714, 0.28571429, 0.14285714,\n",
       "        0.42857143],\n",
       "       [0.85714286, 0.14285714, 0.        , 0.        , 0.        ,\n",
       "        0.        ],\n",
       "       [0.        , 0.        , 0.        , 0.14285714, 0.57142857,\n",
       "        0.28571429],\n",
       "       [0.28571429, 0.        , 0.28571429, 0.42857143, 0.        ,\n",
       "        0.        ],\n",
       "       [0.71428571, 0.14285714, 0.14285714, 0.        , 0.        ,\n",
       "        0.        ]])"
      ]
     },
     "execution_count": 1219,
     "metadata": {},
     "output_type": "execute_result"
    }
   ],
   "source": [
    "y_pred = classifier.predict_proba(X_test[:5, :])\n",
    "y_pred"
   ]
  },
  {
   "cell_type": "code",
   "execution_count": 1220,
   "id": "eaa77c18",
   "metadata": {},
   "outputs": [
    {
     "name": "stdout",
     "output_type": "stream",
     "text": [
      "Число ошибочно классифицированных образцов: 101\n"
     ]
    }
   ],
   "source": [
    "y_pred = classifier.predict(X_test)\n",
    "print ('Число ошибочно классифицированных образцов: %d' % (y_test != y_pred).sum())"
   ]
  },
  {
   "cell_type": "code",
   "execution_count": 1221,
   "id": "97f344f5",
   "metadata": {},
   "outputs": [
    {
     "name": "stdout",
     "output_type": "stream",
     "text": [
      "Верность : 0.68 \n"
     ]
    }
   ],
   "source": [
    "from sklearn.metrics import accuracy_score\n",
    "print ('Верность : %.2f ' % accuracy_score(y_test, y_pred))"
   ]
  },
  {
   "cell_type": "markdown",
   "id": "49b91558",
   "metadata": {},
   "source": [
    "Манхэттенское расстояние для 9 соседей"
   ]
  },
  {
   "cell_type": "code",
   "execution_count": 1222,
   "id": "ce9dbfbb",
   "metadata": {},
   "outputs": [
    {
     "data": {
      "text/plain": [
       "array([5, 1, 5, 1, 1, 4, 3, 3, 1, 1, 2, 1, 1, 1, 1, 1, 5, 3, 6, 3, 1, 5,\n",
       "       1, 5, 2, 1, 4, 6, 6, 6, 3, 1, 1, 4, 4, 3, 5, 3, 5, 3, 6, 1, 5, 5,\n",
       "       5, 6, 5, 6, 1, 3, 2, 6, 1, 3, 1, 3, 5, 3, 1, 1, 4, 3, 3, 1, 4, 5,\n",
       "       1, 6, 4, 1, 4, 5, 4, 5, 4, 3, 3, 5, 1, 1, 4, 6, 1, 1, 4, 3, 1, 1,\n",
       "       5, 5, 6, 4, 1, 1, 2, 1, 3, 1, 3, 5, 4, 6, 3, 5, 3, 5, 4, 3, 1, 1,\n",
       "       5, 3, 3, 5, 5, 1, 6, 2, 1, 5, 3, 5, 5, 2, 6, 3, 5, 6, 5, 3, 5, 1,\n",
       "       4, 3, 1, 1, 3, 2, 1, 2, 2, 1, 3, 4, 4, 5, 3, 5, 4, 2, 1, 3, 1, 5,\n",
       "       3, 3, 3, 2, 1, 5, 5, 2, 5, 5, 1, 3, 3, 2, 2, 5, 3, 4, 5, 1, 2, 4,\n",
       "       3, 3, 5, 3, 4, 1, 3, 5, 6, 6, 1, 1, 5, 1, 1, 5, 1, 1, 4, 5, 6, 1,\n",
       "       1, 3, 5, 5, 6, 1, 3, 3, 1, 3, 4, 1, 3, 4, 3, 5, 5, 1, 1, 5, 2, 4,\n",
       "       5, 1, 5, 3, 5, 1, 1, 2, 1, 1, 5, 5, 1, 4, 1, 1, 1, 3, 6, 5, 6, 1,\n",
       "       6, 5, 4, 3, 6, 5, 1, 6, 3, 5, 5, 3, 4, 4, 5, 3, 1, 3, 5, 3, 6, 4,\n",
       "       3, 1, 1, 1, 3, 1, 6, 1, 5, 4, 3, 1, 2, 4, 4, 2, 6, 1, 5, 5, 3, 3,\n",
       "       3, 3, 1, 3, 5, 4, 4, 4, 3, 4, 1, 3, 5, 5, 4, 3, 4, 4, 2, 1, 3, 5,\n",
       "       2, 1, 1, 1, 6, 1, 5, 5, 3, 1, 2, 3], dtype=int64)"
      ]
     },
     "execution_count": 1222,
     "metadata": {},
     "output_type": "execute_result"
    }
   ],
   "source": [
    "from sklearn.neighbors import KNeighborsClassifier\n",
    "classifier = KNeighborsClassifier(n_neighbors = 9, metric='manhattan')\n",
    "classifier.fit(X_train, y_train)\n",
    "y_pred = classifier.predict(X_test)\n",
    "y_pred"
   ]
  },
  {
   "cell_type": "code",
   "execution_count": 1223,
   "id": "02879d43",
   "metadata": {},
   "outputs": [
    {
     "data": {
      "text/plain": [
       "array([[0.        , 0.        , 0.11111111, 0.22222222, 0.33333333,\n",
       "        0.33333333],\n",
       "       [0.88888889, 0.11111111, 0.        , 0.        , 0.        ,\n",
       "        0.        ],\n",
       "       [0.        , 0.        , 0.        , 0.11111111, 0.55555556,\n",
       "        0.33333333],\n",
       "       [0.44444444, 0.        , 0.22222222, 0.33333333, 0.        ,\n",
       "        0.        ],\n",
       "       [0.66666667, 0.11111111, 0.22222222, 0.        , 0.        ,\n",
       "        0.        ]])"
      ]
     },
     "execution_count": 1223,
     "metadata": {},
     "output_type": "execute_result"
    }
   ],
   "source": [
    "y_pred = classifier.predict_proba(X_test[:5, :])\n",
    "y_pred"
   ]
  },
  {
   "cell_type": "code",
   "execution_count": 1224,
   "id": "c09f8e27",
   "metadata": {},
   "outputs": [
    {
     "name": "stdout",
     "output_type": "stream",
     "text": [
      "Число ошибочно классифицированных образцов: 115\n"
     ]
    }
   ],
   "source": [
    "y_pred = classifier.predict(X_test)\n",
    "print ('Число ошибочно классифицированных образцов: %d' % (y_test != y_pred).sum())"
   ]
  },
  {
   "cell_type": "code",
   "execution_count": 1225,
   "id": "1676de89",
   "metadata": {},
   "outputs": [
    {
     "name": "stdout",
     "output_type": "stream",
     "text": [
      "Верность : 0.64 \n"
     ]
    }
   ],
   "source": [
    "from sklearn.metrics import accuracy_score\n",
    "print ('Верность : %.2f ' % accuracy_score(y_test, y_pred))"
   ]
  },
  {
   "cell_type": "markdown",
   "id": "d9356677",
   "metadata": {},
   "source": [
    "Евклидово расстояние для 5 соседей"
   ]
  },
  {
   "cell_type": "code",
   "execution_count": 1226,
   "id": "3cce9d56",
   "metadata": {},
   "outputs": [
    {
     "data": {
      "text/plain": [
       "array([6, 1, 6, 1, 1, 4, 2, 3, 1, 1, 2, 1, 2, 2, 1, 3, 5, 5, 6, 3, 1, 5,\n",
       "       1, 5, 2, 1, 4, 5, 6, 6, 3, 1, 1, 5, 4, 3, 5, 2, 5, 3, 6, 1, 5, 5,\n",
       "       5, 6, 4, 6, 1, 3, 2, 6, 1, 3, 1, 3, 5, 3, 1, 1, 4, 3, 3, 1, 4, 5,\n",
       "       2, 6, 4, 1, 4, 5, 4, 5, 4, 3, 3, 5, 1, 1, 4, 6, 1, 1, 5, 1, 1, 1,\n",
       "       6, 5, 6, 3, 2, 1, 2, 2, 3, 1, 2, 4, 4, 5, 4, 5, 3, 5, 5, 2, 1, 1,\n",
       "       5, 3, 3, 6, 5, 1, 6, 2, 1, 4, 2, 5, 4, 2, 5, 3, 4, 6, 5, 3, 5, 2,\n",
       "       3, 3, 1, 1, 4, 2, 1, 2, 2, 1, 3, 5, 4, 3, 3, 5, 4, 2, 1, 2, 1, 4,\n",
       "       5, 2, 4, 2, 1, 5, 4, 3, 5, 3, 1, 3, 4, 2, 2, 4, 3, 5, 6, 3, 2, 4,\n",
       "       5, 3, 5, 3, 4, 1, 5, 5, 3, 6, 1, 1, 5, 1, 1, 5, 1, 1, 4, 5, 6, 1,\n",
       "       3, 3, 4, 5, 6, 2, 4, 3, 1, 3, 4, 1, 3, 4, 3, 5, 5, 1, 1, 5, 2, 3,\n",
       "       5, 1, 5, 3, 5, 1, 1, 3, 1, 1, 6, 5, 1, 5, 1, 1, 1, 2, 4, 5, 6, 1,\n",
       "       6, 5, 4, 3, 6, 5, 3, 5, 1, 3, 5, 3, 5, 5, 5, 3, 1, 4, 5, 1, 6, 3,\n",
       "       3, 1, 1, 1, 3, 2, 6, 3, 5, 4, 2, 1, 2, 3, 4, 2, 6, 1, 5, 5, 3, 1,\n",
       "       3, 3, 1, 3, 5, 4, 4, 4, 3, 4, 1, 3, 5, 5, 4, 3, 4, 4, 3, 2, 3, 6,\n",
       "       2, 1, 1, 1, 6, 1, 5, 5, 3, 1, 1, 3], dtype=int64)"
      ]
     },
     "execution_count": 1226,
     "metadata": {},
     "output_type": "execute_result"
    }
   ],
   "source": [
    "from sklearn.neighbors import KNeighborsClassifier\n",
    "classifier = KNeighborsClassifier(n_neighbors = 5, metric='euclidean')\n",
    "classifier.fit(X_train, y_train)\n",
    "y_pred = classifier.predict(X_test)\n",
    "y_pred"
   ]
  },
  {
   "cell_type": "code",
   "execution_count": 1227,
   "id": "08de1c29",
   "metadata": {},
   "outputs": [
    {
     "data": {
      "text/plain": [
       "array([[0. , 0. , 0. , 0.4, 0. , 0.6],\n",
       "       [1. , 0. , 0. , 0. , 0. , 0. ],\n",
       "       [0. , 0. , 0. , 0. , 0.4, 0.6],\n",
       "       [0.4, 0. , 0.4, 0.2, 0. , 0. ],\n",
       "       [0.8, 0.2, 0. , 0. , 0. , 0. ]])"
      ]
     },
     "execution_count": 1227,
     "metadata": {},
     "output_type": "execute_result"
    }
   ],
   "source": [
    "y_pred = classifier.predict_proba(X_test[:5, :])\n",
    "y_pred"
   ]
  },
  {
   "cell_type": "code",
   "execution_count": 1228,
   "id": "5b1d2823",
   "metadata": {},
   "outputs": [
    {
     "name": "stdout",
     "output_type": "stream",
     "text": [
      "Число ошибочно классифицированных образцов: 136\n"
     ]
    }
   ],
   "source": [
    "y_pred = classifier.predict(X_test)\n",
    "print ('Число ошибочно классифицированных образцов: %d' % (y_test != y_pred).sum())"
   ]
  },
  {
   "cell_type": "code",
   "execution_count": 1229,
   "id": "5ebe381b",
   "metadata": {},
   "outputs": [
    {
     "name": "stdout",
     "output_type": "stream",
     "text": [
      "Верность : 0.57 \n"
     ]
    }
   ],
   "source": [
    "from sklearn.metrics import accuracy_score\n",
    "print ('Верность : %.2f ' % accuracy_score(y_test, y_pred))"
   ]
  },
  {
   "cell_type": "markdown",
   "id": "a2cc4dd4",
   "metadata": {},
   "source": [
    "Евклидово расстояние для 7 соседей"
   ]
  },
  {
   "cell_type": "code",
   "execution_count": 1230,
   "id": "6c3510f8",
   "metadata": {},
   "outputs": [
    {
     "data": {
      "text/plain": [
       "array([6, 1, 5, 1, 1, 4, 2, 3, 1, 1, 2, 1, 1, 2, 1, 3, 6, 5, 6, 3, 1, 5,\n",
       "       1, 5, 2, 1, 4, 6, 6, 6, 3, 1, 1, 5, 4, 3, 5, 3, 5, 2, 5, 1, 5, 5,\n",
       "       5, 6, 4, 5, 1, 3, 2, 6, 1, 3, 1, 3, 5, 3, 1, 1, 4, 3, 3, 1, 4, 5,\n",
       "       1, 5, 4, 1, 4, 5, 4, 5, 4, 3, 3, 4, 1, 1, 4, 6, 1, 1, 5, 3, 1, 4,\n",
       "       5, 5, 6, 4, 1, 1, 2, 3, 3, 1, 3, 4, 4, 5, 4, 5, 3, 5, 4, 2, 2, 1,\n",
       "       5, 3, 3, 5, 5, 1, 6, 2, 1, 4, 3, 5, 5, 2, 5, 3, 5, 5, 5, 2, 5, 2,\n",
       "       3, 3, 1, 1, 4, 2, 1, 2, 2, 1, 3, 5, 5, 3, 3, 5, 4, 2, 1, 2, 1, 4,\n",
       "       5, 3, 4, 2, 1, 5, 5, 3, 5, 5, 1, 3, 4, 2, 2, 5, 3, 5, 5, 1, 2, 3,\n",
       "       5, 3, 5, 3, 4, 1, 5, 5, 6, 6, 1, 1, 5, 1, 1, 5, 1, 1, 4, 5, 6, 1,\n",
       "       1, 3, 6, 5, 6, 2, 4, 3, 1, 3, 4, 1, 3, 4, 3, 5, 5, 1, 1, 5, 2, 3,\n",
       "       5, 1, 5, 3, 5, 1, 1, 3, 1, 1, 5, 5, 1, 5, 1, 1, 1, 3, 5, 5, 6, 1,\n",
       "       5, 5, 4, 3, 6, 5, 1, 6, 1, 5, 5, 3, 5, 5, 5, 3, 1, 4, 5, 1, 6, 5,\n",
       "       3, 1, 1, 1, 3, 2, 6, 3, 5, 4, 4, 1, 1, 3, 4, 1, 6, 1, 5, 5, 3, 1,\n",
       "       3, 3, 1, 3, 5, 4, 4, 4, 3, 4, 1, 3, 5, 5, 4, 3, 4, 4, 3, 1, 3, 6,\n",
       "       1, 1, 1, 1, 6, 1, 5, 5, 3, 1, 2, 3], dtype=int64)"
      ]
     },
     "execution_count": 1230,
     "metadata": {},
     "output_type": "execute_result"
    }
   ],
   "source": [
    "from sklearn.neighbors import KNeighborsClassifier\n",
    "classifier = KNeighborsClassifier(n_neighbors = 7, metric='euclidean')\n",
    "classifier.fit(X_train, y_train)\n",
    "y_pred = classifier.predict(X_test)\n",
    "y_pred"
   ]
  },
  {
   "cell_type": "code",
   "execution_count": 1231,
   "id": "df8346c1",
   "metadata": {},
   "outputs": [
    {
     "data": {
      "text/plain": [
       "array([[0.        , 0.        , 0.        , 0.28571429, 0.28571429,\n",
       "        0.42857143],\n",
       "       [1.        , 0.        , 0.        , 0.        , 0.        ,\n",
       "        0.        ],\n",
       "       [0.        , 0.        , 0.        , 0.14285714, 0.42857143,\n",
       "        0.42857143],\n",
       "       [0.42857143, 0.        , 0.28571429, 0.28571429, 0.        ,\n",
       "        0.        ],\n",
       "       [0.71428571, 0.14285714, 0.14285714, 0.        , 0.        ,\n",
       "        0.        ]])"
      ]
     },
     "execution_count": 1231,
     "metadata": {},
     "output_type": "execute_result"
    }
   ],
   "source": [
    "y_pred = classifier.predict_proba(X_test[:5, :])\n",
    "y_pred"
   ]
  },
  {
   "cell_type": "code",
   "execution_count": 1232,
   "id": "4a689d96",
   "metadata": {},
   "outputs": [
    {
     "name": "stdout",
     "output_type": "stream",
     "text": [
      "Число ошибочно классифицированных образцов: 132\n"
     ]
    }
   ],
   "source": [
    "y_pred = classifier.predict(X_test)\n",
    "print ('Число ошибочно классифицированных образцов: %d' % (y_test != y_pred).sum())"
   ]
  },
  {
   "cell_type": "code",
   "execution_count": 1233,
   "id": "0cd66183",
   "metadata": {},
   "outputs": [
    {
     "name": "stdout",
     "output_type": "stream",
     "text": [
      "Верность : 0.59 \n"
     ]
    }
   ],
   "source": [
    "from sklearn.metrics import accuracy_score\n",
    "print ('Верность : %.2f ' % accuracy_score(y_test, y_pred))"
   ]
  },
  {
   "cell_type": "markdown",
   "id": "fdf63cde",
   "metadata": {},
   "source": [
    "Евклидово расстояние для 9 соседей"
   ]
  },
  {
   "cell_type": "code",
   "execution_count": 1234,
   "id": "2ea7aeb8",
   "metadata": {},
   "outputs": [
    {
     "data": {
      "text/plain": [
       "array([5, 1, 6, 1, 1, 4, 2, 1, 1, 1, 2, 1, 1, 1, 1, 3, 5, 5, 6, 6, 1, 5,\n",
       "       1, 5, 2, 1, 5, 5, 6, 6, 3, 1, 1, 5, 4, 3, 5, 3, 5, 3, 5, 1, 5, 5,\n",
       "       5, 6, 4, 5, 1, 3, 2, 6, 1, 3, 1, 3, 5, 2, 1, 1, 3, 3, 2, 1, 6, 5,\n",
       "       1, 5, 4, 1, 5, 5, 4, 5, 4, 3, 3, 5, 1, 1, 3, 6, 1, 1, 4, 3, 1, 3,\n",
       "       6, 5, 6, 4, 1, 1, 2, 1, 2, 1, 3, 4, 4, 5, 3, 5, 3, 5, 5, 3, 1, 1,\n",
       "       5, 3, 3, 5, 5, 1, 6, 2, 1, 5, 3, 5, 5, 2, 6, 3, 5, 5, 5, 3, 5, 1,\n",
       "       3, 3, 1, 1, 4, 2, 1, 4, 2, 1, 3, 4, 5, 5, 3, 5, 5, 2, 1, 2, 1, 4,\n",
       "       4, 3, 4, 2, 1, 5, 5, 2, 5, 5, 1, 2, 4, 2, 2, 5, 3, 5, 5, 1, 2, 3,\n",
       "       5, 3, 5, 3, 4, 1, 5, 5, 6, 6, 1, 1, 5, 1, 1, 5, 1, 1, 4, 5, 6, 1,\n",
       "       1, 3, 5, 5, 6, 1, 4, 3, 1, 3, 4, 1, 3, 4, 3, 5, 5, 1, 1, 5, 2, 3,\n",
       "       5, 2, 5, 3, 5, 1, 1, 3, 1, 1, 5, 5, 1, 5, 1, 1, 1, 3, 5, 5, 6, 1,\n",
       "       5, 5, 4, 3, 6, 5, 1, 6, 1, 5, 5, 3, 5, 5, 5, 3, 1, 4, 5, 1, 6, 5,\n",
       "       3, 1, 1, 1, 3, 2, 6, 4, 5, 4, 2, 1, 1, 3, 5, 2, 6, 1, 5, 5, 3, 1,\n",
       "       3, 3, 1, 3, 5, 4, 4, 5, 3, 4, 1, 3, 5, 6, 4, 3, 4, 4, 2, 1, 3, 5,\n",
       "       2, 1, 1, 1, 6, 1, 5, 5, 3, 1, 2, 3], dtype=int64)"
      ]
     },
     "execution_count": 1234,
     "metadata": {},
     "output_type": "execute_result"
    }
   ],
   "source": [
    "from sklearn.neighbors import KNeighborsClassifier\n",
    "classifier = KNeighborsClassifier(n_neighbors = 9, metric='euclidean')\n",
    "classifier.fit(X_train, y_train)\n",
    "y_pred = classifier.predict(X_test)\n",
    "y_pred"
   ]
  },
  {
   "cell_type": "code",
   "execution_count": 1235,
   "id": "c6c03e9c",
   "metadata": {},
   "outputs": [
    {
     "data": {
      "text/plain": [
       "array([[0.        , 0.        , 0.        , 0.22222222, 0.44444444,\n",
       "        0.33333333],\n",
       "       [0.88888889, 0.11111111, 0.        , 0.        , 0.        ,\n",
       "        0.        ],\n",
       "       [0.        , 0.        , 0.        , 0.11111111, 0.33333333,\n",
       "        0.55555556],\n",
       "       [0.44444444, 0.        , 0.22222222, 0.33333333, 0.        ,\n",
       "        0.        ],\n",
       "       [0.77777778, 0.11111111, 0.11111111, 0.        , 0.        ,\n",
       "        0.        ]])"
      ]
     },
     "execution_count": 1235,
     "metadata": {},
     "output_type": "execute_result"
    }
   ],
   "source": [
    "y_pred = classifier.predict_proba(X_test[:5, :])\n",
    "y_pred"
   ]
  },
  {
   "cell_type": "code",
   "execution_count": 1236,
   "id": "2308cc24",
   "metadata": {},
   "outputs": [
    {
     "name": "stdout",
     "output_type": "stream",
     "text": [
      "Число ошибочно классифицированных образцов: 141\n"
     ]
    }
   ],
   "source": [
    "y_pred = classifier.predict(X_test)\n",
    "print ('Число ошибочно классифицированных образцов: %d' % (y_test != y_pred).sum())"
   ]
  },
  {
   "cell_type": "code",
   "execution_count": 1237,
   "id": "a1898f32",
   "metadata": {},
   "outputs": [
    {
     "name": "stdout",
     "output_type": "stream",
     "text": [
      "Верность : 0.56 \n"
     ]
    }
   ],
   "source": [
    "from sklearn.metrics import accuracy_score\n",
    "print ('Верность : %.2f ' % accuracy_score(y_test, y_pred))"
   ]
  },
  {
   "cell_type": "markdown",
   "id": "800b4cdb",
   "metadata": {},
   "source": [
    "Расстояние Чебышева для 5 соседей"
   ]
  },
  {
   "cell_type": "code",
   "execution_count": 1238,
   "id": "83879e94",
   "metadata": {},
   "outputs": [
    {
     "data": {
      "text/plain": [
       "array([6, 1, 6, 4, 1, 4, 2, 3, 1, 1, 2, 1, 1, 2, 1, 3, 6, 5, 6, 3, 1, 5,\n",
       "       1, 3, 2, 1, 5, 5, 6, 6, 3, 1, 1, 5, 4, 4, 5, 3, 3, 3, 5, 1, 5, 5,\n",
       "       5, 6, 4, 5, 1, 5, 2, 6, 1, 3, 1, 2, 5, 3, 1, 1, 4, 3, 3, 1, 4, 5,\n",
       "       1, 5, 4, 2, 4, 5, 3, 5, 4, 2, 3, 6, 1, 1, 3, 4, 1, 1, 3, 2, 1, 4,\n",
       "       6, 5, 5, 5, 1, 1, 2, 1, 3, 2, 3, 5, 4, 5, 4, 5, 2, 5, 5, 2, 2, 1,\n",
       "       5, 3, 3, 6, 5, 1, 6, 2, 1, 5, 3, 5, 5, 2, 5, 3, 5, 6, 5, 3, 5, 2,\n",
       "       2, 3, 1, 3, 3, 2, 1, 4, 2, 1, 3, 5, 3, 4, 3, 5, 4, 2, 1, 2, 1, 4,\n",
       "       4, 3, 2, 2, 1, 5, 5, 2, 5, 5, 1, 2, 3, 2, 2, 5, 3, 5, 4, 1, 1, 4,\n",
       "       4, 3, 3, 3, 4, 1, 5, 4, 5, 5, 1, 1, 5, 1, 1, 4, 1, 1, 4, 6, 6, 1,\n",
       "       1, 3, 5, 5, 6, 3, 4, 3, 1, 4, 4, 1, 3, 4, 3, 5, 5, 1, 1, 5, 2, 5,\n",
       "       5, 1, 5, 1, 4, 1, 1, 3, 1, 3, 5, 5, 2, 5, 1, 1, 1, 3, 4, 5, 6, 1,\n",
       "       5, 5, 4, 4, 6, 4, 3, 6, 1, 4, 5, 1, 5, 5, 6, 3, 1, 4, 5, 2, 6, 6,\n",
       "       5, 1, 1, 1, 3, 2, 5, 3, 5, 4, 2, 1, 1, 3, 4, 1, 6, 1, 5, 5, 3, 2,\n",
       "       3, 4, 1, 3, 5, 4, 4, 5, 3, 4, 1, 3, 5, 6, 4, 3, 2, 4, 3, 1, 1, 4,\n",
       "       2, 1, 1, 1, 6, 1, 5, 5, 3, 1, 2, 3], dtype=int64)"
      ]
     },
     "execution_count": 1238,
     "metadata": {},
     "output_type": "execute_result"
    }
   ],
   "source": [
    "from sklearn.neighbors import KNeighborsClassifier\n",
    "classifier = KNeighborsClassifier(n_neighbors = 5, metric='chebyshev')\n",
    "classifier.fit(X_train, y_train)\n",
    "y_pred = classifier.predict(X_test)\n",
    "y_pred"
   ]
  },
  {
   "cell_type": "code",
   "execution_count": 1239,
   "id": "bb8934f5",
   "metadata": {},
   "outputs": [
    {
     "data": {
      "text/plain": [
       "array([[0. , 0. , 0. , 0.4, 0. , 0.6],\n",
       "       [1. , 0. , 0. , 0. , 0. , 0. ],\n",
       "       [0. , 0. , 0. , 0. , 0.2, 0.8],\n",
       "       [0.2, 0. , 0.2, 0.6, 0. , 0. ],\n",
       "       [0.8, 0.2, 0. , 0. , 0. , 0. ]])"
      ]
     },
     "execution_count": 1239,
     "metadata": {},
     "output_type": "execute_result"
    }
   ],
   "source": [
    "y_pred = classifier.predict_proba(X_test[:5, :])\n",
    "y_pred"
   ]
  },
  {
   "cell_type": "code",
   "execution_count": 1240,
   "id": "7441e90b",
   "metadata": {},
   "outputs": [
    {
     "name": "stdout",
     "output_type": "stream",
     "text": [
      "Число ошибочно классифицированных образцов: 162\n"
     ]
    }
   ],
   "source": [
    "y_pred = classifier.predict(X_test)\n",
    "print ('Число ошибочно классифицированных образцов: %d' % (y_test != y_pred).sum())"
   ]
  },
  {
   "cell_type": "code",
   "execution_count": 1241,
   "id": "1ced7fa6",
   "metadata": {},
   "outputs": [
    {
     "name": "stdout",
     "output_type": "stream",
     "text": [
      "Верность : 0.49 \n"
     ]
    }
   ],
   "source": [
    "from sklearn.metrics import accuracy_score\n",
    "print ('Верность : %.2f ' % accuracy_score(y_test, y_pred))"
   ]
  },
  {
   "cell_type": "markdown",
   "id": "81aaad00",
   "metadata": {},
   "source": [
    "Расстояние Чебышева для 7 соседей"
   ]
  },
  {
   "cell_type": "code",
   "execution_count": 1242,
   "id": "bdb302a6",
   "metadata": {},
   "outputs": [
    {
     "data": {
      "text/plain": [
       "array([6, 1, 6, 3, 1, 4, 2, 3, 1, 3, 2, 1, 2, 2, 1, 3, 6, 5, 6, 3, 1, 5,\n",
       "       3, 5, 3, 1, 5, 5, 6, 6, 3, 1, 1, 5, 4, 2, 5, 3, 3, 3, 5, 1, 5, 5,\n",
       "       5, 6, 4, 5, 1, 5, 2, 6, 3, 3, 1, 5, 5, 3, 1, 1, 3, 1, 3, 1, 6, 5,\n",
       "       2, 5, 4, 1, 4, 5, 4, 5, 4, 2, 3, 4, 1, 1, 3, 6, 1, 1, 3, 3, 1, 4,\n",
       "       6, 5, 5, 5, 1, 1, 3, 1, 2, 2, 3, 5, 4, 5, 4, 5, 2, 5, 5, 2, 2, 1,\n",
       "       5, 3, 3, 6, 5, 1, 6, 2, 3, 5, 3, 5, 5, 2, 5, 3, 4, 5, 5, 3, 5, 2,\n",
       "       3, 3, 1, 3, 4, 2, 1, 2, 2, 1, 3, 5, 3, 3, 3, 5, 4, 2, 1, 2, 1, 4,\n",
       "       5, 2, 4, 2, 1, 5, 5, 2, 5, 5, 1, 2, 3, 2, 2, 5, 3, 5, 6, 1, 2, 3,\n",
       "       5, 3, 5, 3, 4, 1, 5, 4, 5, 5, 1, 1, 5, 1, 1, 5, 1, 1, 4, 5, 6, 1,\n",
       "       3, 3, 5, 5, 6, 3, 4, 3, 1, 4, 4, 1, 3, 4, 1, 5, 5, 1, 2, 5, 2, 5,\n",
       "       5, 1, 5, 3, 4, 1, 1, 3, 1, 3, 5, 5, 2, 5, 1, 1, 2, 4, 3, 5, 6, 1,\n",
       "       5, 5, 4, 3, 6, 5, 3, 6, 1, 3, 5, 1, 5, 5, 5, 3, 1, 3, 5, 1, 6, 6,\n",
       "       5, 1, 1, 1, 3, 2, 6, 3, 5, 4, 2, 1, 1, 3, 5, 1, 6, 1, 5, 5, 3, 1,\n",
       "       3, 4, 1, 3, 5, 4, 4, 5, 3, 3, 1, 3, 5, 6, 4, 3, 2, 4, 4, 1, 1, 4,\n",
       "       1, 1, 1, 1, 6, 1, 5, 5, 3, 1, 2, 3], dtype=int64)"
      ]
     },
     "execution_count": 1242,
     "metadata": {},
     "output_type": "execute_result"
    }
   ],
   "source": [
    "from sklearn.neighbors import KNeighborsClassifier\n",
    "classifier = KNeighborsClassifier(n_neighbors = 7, metric='chebyshev')\n",
    "classifier.fit(X_train, y_train)\n",
    "y_pred = classifier.predict(X_test)\n",
    "y_pred"
   ]
  },
  {
   "cell_type": "code",
   "execution_count": 1243,
   "id": "31ff3445",
   "metadata": {},
   "outputs": [
    {
     "data": {
      "text/plain": [
       "array([[0.        , 0.        , 0.        , 0.28571429, 0.28571429,\n",
       "        0.42857143],\n",
       "       [1.        , 0.        , 0.        , 0.        , 0.        ,\n",
       "        0.        ],\n",
       "       [0.        , 0.        , 0.        , 0.        , 0.28571429,\n",
       "        0.71428571],\n",
       "       [0.14285714, 0.        , 0.42857143, 0.42857143, 0.        ,\n",
       "        0.        ],\n",
       "       [0.71428571, 0.28571429, 0.        , 0.        , 0.        ,\n",
       "        0.        ]])"
      ]
     },
     "execution_count": 1243,
     "metadata": {},
     "output_type": "execute_result"
    }
   ],
   "source": [
    "y_pred = classifier.predict_proba(X_test[:5, :])\n",
    "y_pred"
   ]
  },
  {
   "cell_type": "code",
   "execution_count": 1244,
   "id": "cff90869",
   "metadata": {},
   "outputs": [
    {
     "name": "stdout",
     "output_type": "stream",
     "text": [
      "Число ошибочно классифицированных образцов: 165\n"
     ]
    }
   ],
   "source": [
    "y_pred = classifier.predict(X_test)\n",
    "print ('Число ошибочно классифицированных образцов: %d' % (y_test != y_pred).sum())"
   ]
  },
  {
   "cell_type": "code",
   "execution_count": 1245,
   "id": "eaa4aba1",
   "metadata": {},
   "outputs": [
    {
     "name": "stdout",
     "output_type": "stream",
     "text": [
      "Верность : 0.48 \n"
     ]
    }
   ],
   "source": [
    "from sklearn.metrics import accuracy_score\n",
    "print ('Верность : %.2f ' % accuracy_score(y_test, y_pred))"
   ]
  },
  {
   "cell_type": "markdown",
   "id": "6977efef",
   "metadata": {},
   "source": [
    "Расстояние Чебышева для 9 соседей"
   ]
  },
  {
   "cell_type": "code",
   "execution_count": 1246,
   "id": "5245427e",
   "metadata": {},
   "outputs": [
    {
     "data": {
      "text/plain": [
       "array([6, 1, 6, 3, 1, 4, 2, 3, 1, 1, 2, 1, 2, 1, 1, 3, 6, 5, 5, 5, 1, 5,\n",
       "       3, 5, 3, 1, 5, 5, 5, 6, 3, 1, 1, 5, 4, 2, 5, 2, 3, 3, 5, 1, 5, 5,\n",
       "       5, 6, 5, 5, 1, 6, 2, 6, 1, 3, 1, 5, 5, 2, 1, 1, 3, 3, 3, 1, 6, 5,\n",
       "       2, 4, 4, 1, 4, 5, 4, 5, 4, 2, 3, 6, 1, 1, 3, 4, 1, 1, 3, 3, 1, 4,\n",
       "       6, 5, 6, 5, 1, 1, 1, 1, 2, 2, 3, 5, 4, 5, 5, 5, 2, 5, 5, 2, 1, 1,\n",
       "       5, 3, 3, 6, 5, 1, 6, 2, 3, 5, 3, 5, 5, 2, 5, 3, 4, 5, 5, 3, 5, 1,\n",
       "       3, 3, 1, 3, 3, 2, 3, 4, 2, 1, 3, 4, 5, 4, 3, 5, 4, 2, 1, 2, 1, 4,\n",
       "       5, 3, 4, 2, 1, 5, 5, 3, 5, 3, 1, 2, 5, 2, 2, 5, 3, 5, 5, 1, 1, 3,\n",
       "       5, 3, 3, 3, 4, 1, 5, 5, 5, 5, 1, 1, 5, 3, 1, 4, 1, 1, 4, 5, 6, 1,\n",
       "       3, 3, 5, 5, 6, 1, 4, 3, 1, 4, 4, 1, 3, 4, 1, 5, 5, 1, 2, 5, 2, 5,\n",
       "       5, 3, 5, 3, 5, 1, 1, 3, 1, 3, 5, 5, 1, 5, 3, 1, 2, 4, 3, 5, 6, 1,\n",
       "       5, 3, 4, 3, 6, 5, 3, 6, 1, 3, 5, 4, 5, 5, 5, 3, 1, 3, 5, 2, 6, 4,\n",
       "       4, 1, 1, 1, 3, 2, 5, 3, 5, 4, 2, 1, 1, 3, 5, 1, 6, 1, 5, 5, 3, 1,\n",
       "       3, 2, 1, 3, 5, 4, 4, 5, 3, 4, 1, 3, 5, 5, 4, 3, 4, 4, 2, 1, 1, 4,\n",
       "       1, 1, 1, 1, 5, 1, 5, 5, 3, 1, 2, 3], dtype=int64)"
      ]
     },
     "execution_count": 1246,
     "metadata": {},
     "output_type": "execute_result"
    }
   ],
   "source": [
    "from sklearn.neighbors import KNeighborsClassifier\n",
    "classifier = KNeighborsClassifier(n_neighbors = 9, metric='chebyshev')\n",
    "classifier.fit(X_train, y_train)\n",
    "y_pred = classifier.predict(X_test)\n",
    "y_pred"
   ]
  },
  {
   "cell_type": "code",
   "execution_count": 1247,
   "id": "c0f39229",
   "metadata": {},
   "outputs": [
    {
     "data": {
      "text/plain": [
       "array([[0.        , 0.        , 0.        , 0.22222222, 0.33333333,\n",
       "        0.44444444],\n",
       "       [0.77777778, 0.22222222, 0.        , 0.        , 0.        ,\n",
       "        0.        ],\n",
       "       [0.        , 0.        , 0.        , 0.        , 0.22222222,\n",
       "        0.77777778],\n",
       "       [0.11111111, 0.        , 0.44444444, 0.44444444, 0.        ,\n",
       "        0.        ],\n",
       "       [0.77777778, 0.22222222, 0.        , 0.        , 0.        ,\n",
       "        0.        ]])"
      ]
     },
     "execution_count": 1247,
     "metadata": {},
     "output_type": "execute_result"
    }
   ],
   "source": [
    "y_pred = classifier.predict_proba(X_test[:5, :])\n",
    "y_pred"
   ]
  },
  {
   "cell_type": "code",
   "execution_count": 1248,
   "id": "f094ae23",
   "metadata": {},
   "outputs": [
    {
     "name": "stdout",
     "output_type": "stream",
     "text": [
      "Число ошибочно классифицированных образцов: 165\n"
     ]
    }
   ],
   "source": [
    "y_pred = classifier.predict(X_test)\n",
    "print ('Число ошибочно классифицированных образцов: %d' % (y_test != y_pred).sum())"
   ]
  },
  {
   "cell_type": "code",
   "execution_count": 1249,
   "id": "a6a87b78",
   "metadata": {},
   "outputs": [
    {
     "name": "stdout",
     "output_type": "stream",
     "text": [
      "Верность : 0.48 \n"
     ]
    }
   ],
   "source": [
    "from sklearn.metrics import accuracy_score\n",
    "print ('Верность : %.2f ' % accuracy_score(y_test, y_pred))"
   ]
  },
  {
   "cell_type": "markdown",
   "id": "3a4c5e29",
   "metadata": {},
   "source": [
    "Вывод"
   ]
  },
  {
   "cell_type": "markdown",
   "id": "46f1d2b6",
   "metadata": {},
   "source": [
    "Построим таблицу для сравнения результатов применения методов k-ближайщих соседей и график для метода с наибольшой точностью."
   ]
  },
  {
   "cell_type": "code",
   "execution_count": 1252,
   "id": "78759c1c",
   "metadata": {},
   "outputs": [
    {
     "data": {
      "image/png": "[encoded data removed]",
      "text/plain": [
       "<IPython.core.display.Image object>"
      ]
     },
     "execution_count": 1252,
     "metadata": {
      "image/png": {
       "height": 440,
       "width": 520
      }
     },
     "output_type": "execute_result"
    }
   ],
   "source": [
    "from IPython.display import Image\n",
    "Image(\"C:/Users/User/Pictures/Screenshots/Снимок экрана (3142).png\", width=520, height=440)"
   ]
  },
  {
   "cell_type": "code",
   "execution_count": 1253,
   "id": "0667819b",
   "metadata": {},
   "outputs": [
    {
     "name": "stderr",
     "output_type": "stream",
     "text": [
      "E:\\anaconda\\Lib\\site-packages\\mlxtend\\plotting\\decision_regions.py:346: UserWarning: You passed a edgecolor/edgecolors ('black') for an unfilled marker ('x').  Matplotlib is ignoring the edgecolor in favor of the facecolor.  This behavior may change in the future.\n",
      "  ax.scatter(\n"
     ]
    },
    {
     "data": {
      "image/png": "[encoded data removed]",
      "text/plain": [
       "<Figure size 640x480 with 1 Axes>"
      ]
     },
     "metadata": {},
     "output_type": "display_data"
    }
   ],
   "source": [
    "from mlxtend.plotting import plot_decision_regions \n",
    "import matplotlib.pyplot as plt \n",
    "from sklearn.svm import SVC\n",
    "\n",
    "svm = KNeighborsClassifier(n_neighbors = 7, metric='manhattan')\n",
    "svm.fit(X_train[:,[0,1]], y_train)\n",
    "\n",
    "#Plotting decision regions\n",
    "plot_decision_regions(X_test[:,[0,1]], y_test.astype(np.int_), clf=svm, legend=2)\n",
    "\n",
    "# Adding axes annotations\n",
    "plt.xlabel('SGOT_AST')\n",
    "plt.ylabel('SGOT_AST')\n",
    "plt.title('SMK_stat_type_cd')\n",
    "plt.show()"
   ]
  },
  {
   "cell_type": "markdown",
   "id": "f902cf1e",
   "metadata": {},
   "source": [
    "В итоге для данного датасета наилучший результат классификации с верностью 0.68 был получен для манхэттенской метрики с количеством ближайших соседей, равным 7, и числом ошибочно классифицированных образцов, равное 101."
   ]
  },
  {
   "cell_type": "code",
   "execution_count": null,
   "id": "9af75fb9",
   "metadata": {},
   "outputs": [],
   "source": []
  }
 ],
 "metadata": {
  "kernelspec": {
   "display_name": "Python 3 (ipykernel)",
   "language": "python",
   "name": "python3"
  },
  "language_info": {
   "codemirror_mode": {
    "name": "ipython",
    "version": 3
   },
   "file_extension": ".py",
   "mimetype": "text/x-python",
   "name": "python",
   "nbconvert_exporter": "python",
   "pygments_lexer": "ipython3",
   "version": "3.11.4"
  }
 },
 "nbformat": 4,
 "nbformat_minor": 5
}
